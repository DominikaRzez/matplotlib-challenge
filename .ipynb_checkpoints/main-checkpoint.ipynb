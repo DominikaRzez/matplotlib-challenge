{
 "cells": [
  {
   "cell_type": "code",
   "execution_count": null,
   "id": "18bd14b1",
   "metadata": {},
   "outputs": [],
   "source": [
    "# Dependencies and Setup\n",
    "import matplotlib.pyplot as plt\n",
    "import pandas as pd\n",
    "import scipy.stats as st\n",
    "\n",
    "# Study data files\n",
    "mouse_metadata_path = \"Resources/Mouse_metadata.csv\"\n",
    "study_results_path = \"Resources/Study_results.csv\"\n",
    "\n",
    "# Read the mouse data and the study results\n",
    "mouse_metadata = pd.read_csv(mouse_metadata_path)\n",
    "study_results = pd.read_csv(study_results_path)\n",
    "\n",
    "# Combine the data into a single dataset\n",
    "merge_df=pd.merge(mouse_metadata,study_results, on=\"Mouse ID\")\n",
    "\n",
    "# Display the data table for preview\n",
    "merge_df.head()"
   ]
  },
  {
   "cell_type": "code",
   "execution_count": null,
   "id": "27753c7b",
   "metadata": {},
   "outputs": [],
   "source": [
    "# Checking the number of mice.\n",
    "len(merge_df)"
   ]
  },
  {
   "cell_type": "code",
   "execution_count": null,
   "id": "5581e6a3",
   "metadata": {},
   "outputs": [],
   "source": [
    "# Getting the duplicate mice by ID number that shows up for Mouse ID and Timepoint. \n",
    "# Create a clean DataFrame by dropping the duplicate mouse by its ID.\n",
    "cleaned=merge_df.drop_duplicates(subset=[\"Mouse ID\",\"Timepoint\"], keep = False)\n",
    "cleaned.head()"
   ]
  },
  {
   "cell_type": "code",
   "execution_count": null,
   "id": "24f0896a",
   "metadata": {},
   "outputs": [],
   "source": [
    "# Checking the number of mice in the clean DataFrame.\n",
    "len(cleaned)"
   ]
  },
  {
   "cell_type": "code",
   "execution_count": null,
   "id": "4211805a",
   "metadata": {},
   "outputs": [],
   "source": [
    "cleaned.groupby(\"Drug Regimen\")"
   ]
  },
  {
   "cell_type": "code",
   "execution_count": null,
   "id": "24e62ed7",
   "metadata": {},
   "outputs": [],
   "source": [
    "#Calcualting the following properties of each drug regimen: \n",
    "# mean, median, variance, standard deviation, and SEM of the tumor volume. \n",
    "mean=cleaned.groupby(\"Drug Regimen\")[\"Tumor Volume (mm3)\"].mean()\n",
    "median=cleaned.groupby(\"Drug Regimen\")[\"Tumor Volume (mm3)\"].median()\n",
    "variance=cleaned.groupby(\"Drug Regimen\")[\"Tumor Volume (mm3)\"].var()\n",
    "std_dev=cleaned.groupby(\"Drug Regimen\")[\"Tumor Volume (mm3)\"].std()\n",
    "sem=cleaned.groupby(\"Drug Regimen\")[\"Tumor Volume (mm3)\"].sem()"
   ]
  },
  {
   "cell_type": "code",
   "execution_count": null,
   "id": "a7671c7e",
   "metadata": {},
   "outputs": [],
   "source": [
    "#building dataframe to display summary statistics\n",
    "summary=pd.DataFrame({\"Mean Tumor Volume\": mean,\n",
    "                     \"Median Tumor Volume\":median,\n",
    "                     \"Tumor Volume Variance\":variance,\n",
    "                      \"Tumor Volume Standard Dev\": std_dev,\n",
    "                     \"Tumor Volume Std. Err.\":sem})\n",
    "summary"
   ]
  },
  {
   "cell_type": "code",
   "execution_count": null,
   "id": "d2a185f6",
   "metadata": {},
   "outputs": [],
   "source": [
    "#Finding values for x and y axis\n",
    "#drug will be the x_axis and timepoint_count will be y_axis\n",
    "drug=cleaned[\"Drug Regimen\"].unique().tolist()\n",
    "timepoint_count=cleaned.groupby(\"Drug Regimen\")[\"Timepoint\"].count()\n",
    "df=pd.DataFrame(timepoint_count)"
   ]
  },
  {
   "cell_type": "code",
   "execution_count": null,
   "id": "17b8eddf",
   "metadata": {},
   "outputs": [],
   "source": [
    "# Generating a bar plot showing the total number of timepoints for all mice tested for each drug regimen using Pandas.\n",
    "mice_chart=df.plot(kind=\"bar\", title = \"Number of timepoints for each drug regimen\", color = \"r\", alpha =0.5)\n",
    "mice_chart.set_xlabel(\"Drug Regimen\")\n",
    "mice_chart.set_ylabel(\"Total number of timepoints for all mice\")\n",
    "plt.show()\n",
    "plt.tight_layout()"
   ]
  },
  {
   "cell_type": "code",
   "execution_count": null,
   "id": "00a111a9",
   "metadata": {},
   "outputs": [],
   "source": [
    "# Generating a bar plot showing the total number of timepoints for all mice tested for each drug regimen using pyplot.\n",
    "plt.bar(drug, timepoint_count, color=\"r\", alpha=0.5, align=\"center\")\n",
    "#labeling the chart\n",
    "plt.title(\"Number of timepoints for each drug regimen\")\n",
    "plt.xlabel(\"Drug Regimen\")\n",
    "plt.ylabel(\"Total number of timepoints for all mice\")\n",
    "tick_locations = [value for value in drug]\n",
    "plt.xticks(tick_locations, drug, rotation=\"vertical\")"
   ]
  },
  {
   "cell_type": "code",
   "execution_count": null,
   "id": "4b7a8a13",
   "metadata": {},
   "outputs": [],
   "source": [
    "# Generating a pie plot showing the distribution of female versus male mice using Pandas\n",
    "gender_pie=cleaned.groupby(\"Sex\")[\"Mouse ID\"].count().plot(kind=\"pie\", y=\"Sex\", \n",
    "                                                           title=\"The distribution of female versus male mice\",\n",
    "                                                           autopct=\"%1.1f%%\")\n",
    "gender_pie.set_ylabel(\"Gender\")"
   ]
  },
  {
   "cell_type": "code",
   "execution_count": null,
   "id": "0acd7c32",
   "metadata": {},
   "outputs": [],
   "source": [
    "# Generating a pie plot showing the distribution of female versus male mice using pyplot\n",
    "labels = [\"Female\", \"Male\"]\n",
    "plt.pie(cleaned.groupby(\"Sex\")[\"Mouse ID\"].count(),labels=labels,autopct=\"%1.1f%%\")\n",
    "plt.ylabel(\"Gender\")\n",
    "plt.title(\"The distribution of female versus male mice\")"
   ]
  },
  {
   "cell_type": "code",
   "execution_count": null,
   "id": "82a2e5ee",
   "metadata": {},
   "outputs": [],
   "source": [
    "# Calculating the final tumor volume of each mouse across four of the treatment regimens:  \n",
    "# Capomulin, Ramicane, Infubinol, and Ceftamin\n",
    "treatment=[\"Capomulin\", \"Ramicane\", \"Infubinol\", \"Ceftamin\"]\n",
    "drug_regimen=cleaned.set_index(\"Drug Regimen\").loc[treatment,:].drop_duplicates(subset=[\"Mouse ID\"], keep = \"last\")\n",
    "Capomulin=drug_regimen.loc[\"Capomulin\",\"Tumor Volume (mm3)\"]\n",
    "Ramicane=drug_regimen.loc[\"Ramicane\",\"Tumor Volume (mm3)\"]\n",
    "Infubinol=drug_regimen.loc[\"Infubinol\",\"Tumor Volume (mm3)\"]\n",
    "Ceftamin=drug_regimen.loc[\"Ceftamin\",\"Tumor Volume (mm3)\"]"
   ]
  },
  {
   "cell_type": "code",
   "execution_count": null,
   "id": "6fe0a697",
   "metadata": {},
   "outputs": [],
   "source": [
    "#Calculating the quartiles and IQR and looking for outliers for Capomulin\n",
    "quartiles = Capomulin.quantile([.25,.5,.75])\n",
    "lowerq = quartiles[0.25]\n",
    "upperq = quartiles[0.75]\n",
    "iqr = upperq-lowerq\n",
    "lower_bound = lowerq - (1.5*iqr)\n",
    "upper_bound = upperq + (1.5*iqr)\n",
    "print(f\"Values below {lower_bound} could be outliers.\")\n",
    "print(f\"Values above {upper_bound} could be outliers.\")"
   ]
  },
  {
   "cell_type": "code",
   "execution_count": null,
   "id": "0be24225",
   "metadata": {},
   "outputs": [],
   "source": [
    "#Calculating the quartiles and IQR and looking for outliers for Ramicane\n",
    "quartiles = Ramicane.quantile([.25,.5,.75])\n",
    "lowerq = quartiles[0.25]\n",
    "upperq = quartiles[0.75]\n",
    "iqr = upperq-lowerq\n",
    "lower_bound = lowerq - (1.5*iqr)\n",
    "upper_bound = upperq + (1.5*iqr)\n",
    "print(f\"Values below {lower_bound} could be outliers.\")\n",
    "print(f\"Values above {upper_bound} could be outliers.\")"
   ]
  },
  {
   "cell_type": "code",
   "execution_count": null,
   "id": "578f9dc4",
   "metadata": {},
   "outputs": [],
   "source": [
    "#Calculating the quartiles and IQR and looking for outliers for Infubinol\n",
    "quartiles = Infubinol.quantile([.25,.5,.75])\n",
    "lowerq = quartiles[0.25]\n",
    "upperq = quartiles[0.75]\n",
    "iqr = upperq-lowerq\n",
    "lower_bound = lowerq - (1.5*iqr)\n",
    "upper_bound = upperq + (1.5*iqr)\n",
    "print(f\"Values below {lower_bound} could be outliers.\")\n",
    "print(f\"Values above {upper_bound} could be outliers.\")"
   ]
  },
  {
   "cell_type": "code",
   "execution_count": null,
   "id": "2b947141",
   "metadata": {},
   "outputs": [],
   "source": [
    "#Calculating the quartiles and IQR and looking for outliers for Ceftamin\n",
    "quartiles = Ceftamin.quantile([.25,.5,.75])\n",
    "lowerq = quartiles[0.25]\n",
    "upperq = quartiles[0.75]\n",
    "iqr = upperq-lowerq\n",
    "lower_bound = lowerq - (1.5*iqr)\n",
    "upper_bound = upperq + (1.5*iqr)\n",
    "print(f\"Values below {lower_bound} could be outliers.\")\n",
    "print(f\"Values above {upper_bound} could be outliers.\")"
   ]
  },
  {
   "cell_type": "code",
   "execution_count": null,
   "id": "51f1c75f",
   "metadata": {},
   "outputs": [],
   "source": [
    "fig1, ax1 = plt.subplots()\n",
    "ax1.set_ylabel(\"Final Tumor Volume (mm3)\")\n",
    "ax1.boxplot([Capomulin, Ramicane, Infubinol, Ceftamin], sym=\"r\")\n",
    "plt.xticks([1, 2, 3,4], [\"Capomulin\", \"Ramicane\", \"Infubinol\", \"Ceftamin\"])\n",
    "plt.show()"
   ]
  }
 ],
 "metadata": {
  "kernelspec": {
   "display_name": "Python 3",
   "language": "python",
   "name": "python3"
  },
  "language_info": {
   "codemirror_mode": {
    "name": "ipython",
    "version": 3
   },
   "file_extension": ".py",
   "mimetype": "text/x-python",
   "name": "python",
   "nbconvert_exporter": "python",
   "pygments_lexer": "ipython3",
   "version": "3.8.8"
  }
 },
 "nbformat": 4,
 "nbformat_minor": 5
}
